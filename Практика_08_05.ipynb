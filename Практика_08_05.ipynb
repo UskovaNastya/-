{
  "nbformat": 4,
  "nbformat_minor": 0,
  "metadata": {
    "colab": {
      "name": "Практика 08.05",
      "provenance": [],
      "collapsed_sections": []
    },
    "kernelspec": {
      "name": "python3",
      "display_name": "Python 3"
    }
  },
  "cells": [
    {
      "cell_type": "markdown",
      "metadata": {
        "id": "BuUXeX5kbjO2",
        "colab_type": "text"
      },
      "source": [
        "Задание 2"
      ]
    },
    {
      "cell_type": "code",
      "metadata": {
        "id": "hX8E4fN8blm5",
        "colab_type": "code",
        "outputId": "3eeeef17-df9a-41a3-e46a-64d75b910017",
        "colab": {
          "base_uri": "https://localhost:8080/",
          "height": 118
        }
      },
      "source": [
        "class Student:\n",
        "  def __init__(self, surname, vuz, s, perf, group = 1):\n",
        "    self.surname = surname\n",
        "    self.vuz = vuz\n",
        "    self.group = group\n",
        "    self.s = s\n",
        "    self.perf = perf\n",
        "\n",
        "  def display(self):\n",
        "    return self.surname, self.group, self.vuz, self.s, self.perf\n",
        "\n",
        "  def __del__(self):\n",
        "    if self.perf == 'zadolschnik':\n",
        "      print(\"Отчислен студент {} {}\".format(self.surname, self.perf))\n",
        "\n",
        "s1 = Student('Ivanov', 'MGPU', 'male', 'zadolschnik', 2)\n",
        "print(s1.display())\n",
        "s2 = Student('Sidorova', 'MGPU', 'female', 'otlichnik', 3)\n",
        "print(s2.display())\n",
        "s3 = Student('Pupkin', 'MGPU', 'male', 'otlichnik', 3)\n",
        "print(s3.display())\n",
        "if s2.perf == s3.perf:\n",
        "  print((s2.surname), (s3.surname), \" молодцы!\")\n",
        "del(s1)\n",
        "del(s2, s3)\n",
        "try:\n",
        "  input(\"Press Enter and exit\")\n",
        "except SyntaxError :\n",
        "  exit()"
      ],
      "execution_count": 0,
      "outputs": [
        {
          "output_type": "stream",
          "text": [
            "('Ivanov', 2, 'MGPU', 'male', 'zadolschnik')\n",
            "('Sidorova', 3, 'MGPU', 'female', 'otlichnik')\n",
            "('Pupkin', 3, 'MGPU', 'male', 'otlichnik')\n",
            "Sidorova Pupkin  молодцы!\n",
            "Отчислен студент Ivanov zadolschnik\n",
            "Press Enter and exit\n"
          ],
          "name": "stdout"
        }
      ]
    }
  ]
}