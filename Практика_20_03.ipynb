{
  "nbformat": 4,
  "nbformat_minor": 0,
  "metadata": {
    "colab": {
      "name": "Практика 20.03",
      "provenance": [],
      "collapsed_sections": []
    },
    "kernelspec": {
      "name": "python3",
      "display_name": "Python 3"
    }
  },
  "cells": [
    {
      "cell_type": "code",
      "metadata": {
        "id": "igvbt2JpASpQ",
        "colab_type": "code",
        "outputId": "1f781146-6505-4f37-ad9d-f9bd2b9929de",
        "colab": {
          "base_uri": "https://localhost:8080/",
          "height": 50
        }
      },
      "source": [
        "class T1:\n",
        "  n=10\n",
        "  def total(self,N):\n",
        "    self.total = int(self.n) + int(N)\n",
        "class T2:\n",
        " def total(self,s):\n",
        "   self.total = len(str(s))\n",
        "t1 = T1()\n",
        "t2 = T2()\n",
        "t1.total(45)\n",
        "t2.total(45)\n",
        "print(t1.total)\n",
        "print(t2.total)"
      ],
      "execution_count": 0,
      "outputs": [
        {
          "output_type": "stream",
          "text": [
            "55\n",
            "2\n"
          ],
          "name": "stdout"
        }
      ]
    },
    {
      "cell_type": "markdown",
      "metadata": {
        "id": "siUqsjDV3YFN",
        "colab_type": "text"
      },
      "source": [
        "Задание 1"
      ]
    },
    {
      "cell_type": "code",
      "metadata": {
        "id": "rjEsUIaRDJnM",
        "colab_type": "code",
        "outputId": "09954ff3-62e3-4b53-eef0-adbca4976e89",
        "colab": {
          "base_uri": "https://localhost:8080/",
          "height": 50
        }
      },
      "source": [
        "class One:\n",
        "  def __init__(self,a):\n",
        "    self.a = a ** 2\n",
        "class Two:\n",
        "  def __init__(self,a):\n",
        "    self.a = a ** 2\n",
        "\n",
        "a = input (\"Введите число\")\n",
        "a = int(a)\n",
        "if -100 < a < 100:\n",
        "  obj = One(a)\n",
        "else:\n",
        "  obj = Two(a)\n",
        "print(obj.a)"
      ],
      "execution_count": 0,
      "outputs": [
        {
          "output_type": "stream",
          "text": [
            "Введите число60\n",
            "3600\n"
          ],
          "name": "stdout"
        }
      ]
    },
    {
      "cell_type": "markdown",
      "metadata": {
        "id": "AjhrasO53etG",
        "colab_type": "text"
      },
      "source": [
        "Задание 2"
      ]
    },
    {
      "cell_type": "code",
      "metadata": {
        "id": "XF54bGsqEyh6",
        "colab_type": "code",
        "outputId": "8fc186f6-470f-4c44-f8f8-90f532995286",
        "colab": {
          "base_uri": "https://localhost:8080/",
          "height": 84
        }
      },
      "source": [
        "class Base:\n",
        "  def __init__(self,n):\n",
        "    self.numb = n\n",
        "  def out(self):\n",
        "    print(self.numb)\n",
        "class One(Base):\n",
        "  def multi(self,m):\n",
        "    self.numb *= m\n",
        "class Two(Base):\n",
        "  def inlist(self):\n",
        "    self.inlist = list(str(self.numb))\n",
        "  def out(self):\n",
        "    i = 0\n",
        "    while i < len(self.inlist):\n",
        "      print(self.inlist[i])\n",
        "      i += 1\n",
        "\n",
        "obj1 = One(45)\n",
        "obj2 = Two('abc')\n",
        "\n",
        "obj1.multi(2)\n",
        "obj1.out()\n",
        "\n",
        "obj2.inlist()\n",
        "obj2.out()"
      ],
      "execution_count": 0,
      "outputs": [
        {
          "output_type": "stream",
          "text": [
            "90\n",
            "a\n",
            "b\n",
            "c\n"
          ],
          "name": "stdout"
        }
      ]
    },
    {
      "cell_type": "markdown",
      "metadata": {
        "id": "xkqSPzvw3nnc",
        "colab_type": "text"
      },
      "source": [
        "Задание 3"
      ]
    },
    {
      "cell_type": "code",
      "metadata": {
        "id": "I93fkLh_G2o7",
        "colab_type": "code",
        "outputId": "a662048f-4979-4b6e-bcbf-51cac0182fe6",
        "colab": {
          "base_uri": "https://localhost:8080/",
          "height": 319
        }
      },
      "source": [
        "class Base:\n",
        "  def __init__(self,N):\n",
        "    self.numb = N\n",
        "  def out(self):\n",
        "    self.numb /=2\n",
        "    print(self.numb)\n",
        "class Subclass(Base):\n",
        "  def out(self):\n",
        "    print(\"\\n----\")\n",
        "    Base.out(self)\n",
        "    print(\"----\\n\")\n",
        "i = 0\n",
        "while i < 10:\n",
        "  if 4 < i < 7:\n",
        "    obj = Subclass(i)\n",
        "  else:\n",
        "    obj = Base(i)\n",
        "  i += 1\n",
        "  obj.out()"
      ],
      "execution_count": 0,
      "outputs": [
        {
          "output_type": "stream",
          "text": [
            "0.0\n",
            "0.5\n",
            "1.0\n",
            "1.5\n",
            "2.0\n",
            "\n",
            "----\n",
            "2.5\n",
            "----\n",
            "\n",
            "\n",
            "----\n",
            "3.0\n",
            "----\n",
            "\n",
            "3.5\n",
            "4.0\n",
            "4.5\n"
          ],
          "name": "stdout"
        }
      ]
    },
    {
      "cell_type": "markdown",
      "metadata": {
        "id": "bukpknFA3Q34",
        "colab_type": "text"
      },
      "source": [
        "Практическая работа"
      ]
    },
    {
      "cell_type": "code",
      "metadata": {
        "id": "QirjpYW23S4P",
        "colab_type": "code",
        "colab": {
          "base_uri": "https://localhost:8080/",
          "height": 118
        },
        "outputId": "bb78ba1b-d283-4ffa-d4a4-8b6c28d2f7de"
      },
      "source": [
        "class Sclad:\n",
        "  def __init__(self, name, kolvo):\n",
        "    self.name = name\n",
        "    self.kolvo = kolvo\n",
        "  def show(self):\n",
        "    print(self.name, self.kolvo) \n",
        "  \n",
        "\n",
        "class velo(Sclad):\n",
        "  def __init__(self, name, kolvo, speed):\n",
        "    super().__init__(name, kolvo)\n",
        "    self.speed = speed\n",
        "\n",
        "  def show(self):\n",
        "    print(\"Модель:\", self.name, \"Количество:\", self.kolvo, \"Скорость:\", self.speed)\n",
        "\n",
        "\n",
        "class moto(Sclad):\n",
        "  def __init__(self, name, kolvo, color):\n",
        "   super().__init__(name, kolvo)\n",
        "   self.color = color\n",
        "  def show(self):\n",
        "    print(\"Модель:\", self.name, \"Количество:\", self.kolvo, \"Цвет:\", self.color)\n",
        "\n",
        "\n",
        "class gorvelo(Velo):\n",
        "  def __init__(self, name, kolvo, speed, geer):\n",
        "    super().__init__(name, kolvo, speed)\n",
        "    self.geer = geer\n",
        "\n",
        "  def show(self):\n",
        "     print(\"Модель:\", self.name, \"Количество:\", self.kolvo, \"Скорость:\", self.speed, \"Передачи\", self.geer)\n",
        "\n",
        "\n",
        "obj0 = Sclad(\"Товар\", 55)\n",
        "obj0.show()\n",
        "print(\"--------------------------------------------\")\n",
        "obj1 = velo(\"Stels\", 20, 10)\n",
        "obj1.show\n",
        "print(\"--------------------------------------------\")\n",
        "obj2 = moto(\"Sizuky\", 30, \"белый/черный\")\n",
        "obj2.show()\n",
        "print(\"--------------------------------------------\")\n",
        "obj3 = gorvelo(\"Hans\", 5, 12, 20)\n",
        "obj3.show()"
      ],
      "execution_count": 11,
      "outputs": [
        {
          "output_type": "stream",
          "text": [
            "Товар 55\n",
            "--------------------------------------------\n",
            "--------------------------------------------\n",
            "Модель: Sizuky Количество: 30 Цвет: белый/черный\n",
            "--------------------------------------------\n",
            "Модель: Hans Количество: 5 Скорость: 12 Передачи 20\n"
          ],
          "name": "stdout"
        }
      ]
    }
  ]
}