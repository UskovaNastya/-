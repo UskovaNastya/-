{
  "nbformat": 4,
  "nbformat_minor": 0,
  "metadata": {
    "colab": {
      "name": "Практика 24.04",
      "provenance": [],
      "collapsed_sections": []
    },
    "kernelspec": {
      "name": "python3",
      "display_name": "Python 3"
    }
  },
  "cells": [
    {
      "cell_type": "markdown",
      "metadata": {
        "id": "4Edn9JctQOdj",
        "colab_type": "text"
      },
      "source": [
        "Пример 1"
      ]
    },
    {
      "cell_type": "code",
      "metadata": {
        "id": "rFtI7ZtrQmWv",
        "colab_type": "code",
        "outputId": "fcdcca3b-e8eb-402d-cf38-1105c050adfa",
        "colab": {
          "base_uri": "https://localhost:8080/",
          "height": 246
        }
      },
      "source": [
        "class TestClass:\n",
        "\n",
        "  def __init__(self):\n",
        "    self.public_variable = \"I'm public!\"\n",
        "    self.__private_variable = \"I'm too shy to be public!\"\n",
        "\n",
        "  def get_public_variable(self):\n",
        "        return self.public_variable\n",
        "\n",
        "  def get_private_variable(self):\n",
        "        return self.__private_variable\n",
        "\n",
        "if __name__ == \"__main__\":\n",
        "    test_class = TestClass()\n",
        "    print(\" \".join([\"Public variable:\", test_class.get_public_variable()]))\n",
        "    print(\" \".join([\"Public variable:\", test_class.public_variable]))\n",
        "\n",
        "    print(\" \".join([\"Private variable:\", test_class.get_private_variable()]))\n",
        "    print(\" \".join([\"Private variable:\", test_class.__private_variable]))"
      ],
      "execution_count": 0,
      "outputs": [
        {
          "output_type": "stream",
          "text": [
            "Public variable: I'm public!\n",
            "Public variable: I'm public!\n",
            "Private variable: I'm too shy to be public!\n"
          ],
          "name": "stdout"
        },
        {
          "output_type": "error",
          "ename": "AttributeError",
          "evalue": "ignored",
          "traceback": [
            "\u001b[0;31m---------------------------------------------------------------------------\u001b[0m",
            "\u001b[0;31mAttributeError\u001b[0m                            Traceback (most recent call last)",
            "\u001b[0;32m<ipython-input-2-29793be19d47>\u001b[0m in \u001b[0;36m<module>\u001b[0;34m()\u001b[0m\n\u001b[1;32m     17\u001b[0m \u001b[0;34m\u001b[0m\u001b[0m\n\u001b[1;32m     18\u001b[0m     \u001b[0mprint\u001b[0m\u001b[0;34m(\u001b[0m\u001b[0;34m\" \"\u001b[0m\u001b[0;34m.\u001b[0m\u001b[0mjoin\u001b[0m\u001b[0;34m(\u001b[0m\u001b[0;34m[\u001b[0m\u001b[0;34m\"Private variable:\"\u001b[0m\u001b[0;34m,\u001b[0m \u001b[0mtest_class\u001b[0m\u001b[0;34m.\u001b[0m\u001b[0mget_private_variable\u001b[0m\u001b[0;34m(\u001b[0m\u001b[0;34m)\u001b[0m\u001b[0;34m]\u001b[0m\u001b[0;34m)\u001b[0m\u001b[0;34m)\u001b[0m\u001b[0;34m\u001b[0m\u001b[0;34m\u001b[0m\u001b[0m\n\u001b[0;32m---> 19\u001b[0;31m     \u001b[0mprint\u001b[0m\u001b[0;34m(\u001b[0m\u001b[0;34m\" \"\u001b[0m\u001b[0;34m.\u001b[0m\u001b[0mjoin\u001b[0m\u001b[0;34m(\u001b[0m\u001b[0;34m[\u001b[0m\u001b[0;34m\"Private variable:\"\u001b[0m\u001b[0;34m,\u001b[0m \u001b[0mtest_class\u001b[0m\u001b[0;34m.\u001b[0m\u001b[0m__private_variable\u001b[0m\u001b[0;34m]\u001b[0m\u001b[0;34m)\u001b[0m\u001b[0;34m)\u001b[0m\u001b[0;34m\u001b[0m\u001b[0;34m\u001b[0m\u001b[0m\n\u001b[0m",
            "\u001b[0;31mAttributeError\u001b[0m: 'TestClass' object has no attribute '__private_variable'"
          ]
        }
      ]
    },
    {
      "cell_type": "markdown",
      "metadata": {
        "id": "kVYHXcRQRWW9",
        "colab_type": "text"
      },
      "source": [
        "Пример 2"
      ]
    },
    {
      "cell_type": "code",
      "metadata": {
        "id": "NHyOp587RXw1",
        "colab_type": "code",
        "colab": {}
      },
      "source": [
        "class UniversityMember:\n",
        "    passToUniversity = ''\n",
        "    status = True\n",
        "\n",
        "    def checkStatus(self):\n",
        "        return self.status\n",
        "\n",
        "    def dismiss(self):\n",
        "        self.status = False\n",
        "        self.pass_to_university = None\n",
        "\n",
        "class Student(UniversityMember):\n",
        "    group = None\n",
        "\n",
        "class Teacher(UniversityMember):\n",
        "    cathedral = None\n",
        "\n",
        "class Administrator(UniversityMember):\n",
        "    pass\n",
        "class Student(UniversityMember):\n",
        "    group = None\n",
        "    passToUniversity = ''\n",
        "    status = True\n",
        "\n",
        "    def checkStatus(self):\n",
        "        return self.status\n",
        "\n",
        "    def dismiss(self):\n",
        "        self.status = False\n",
        "        self.pass_to_university = None\n",
        "\n",
        "class Teacher(UniversityMember):\n",
        "    cathedral = None\n",
        "    passToUniversity = ''\n",
        "    status = True\n",
        "\n",
        "    def checkStatus(self):\n",
        "        return self.status\n",
        "\n",
        "    def dismiss(self):\n",
        "        self.status = False\n",
        "        self.pass_to_university = None\n",
        "\n",
        "class Administrator(UniversityMember):\n",
        "    passToUniversity = ''\n",
        "    status = True\n",
        "\n",
        "    def checkStatus(self):\n",
        "        return self.status\n",
        "\n",
        "    def dismiss(self):\n",
        "        self.status = False\n",
        "        self.pass_to_university = None"
      ],
      "execution_count": 0,
      "outputs": []
    },
    {
      "cell_type": "markdown",
      "metadata": {
        "id": "w0Dw7Fd6RaGn",
        "colab_type": "text"
      },
      "source": [
        "Пример 3"
      ]
    },
    {
      "cell_type": "code",
      "metadata": {
        "id": "7RzttfnZRbII",
        "colab_type": "code",
        "outputId": "72177431-0461-4da4-a70e-af6fd62e8890",
        "colab": {
          "base_uri": "https://localhost:8080/",
          "height": 67
        }
      },
      "source": [
        "import datetime\n",
        "class Person:\n",
        "    def __init__(self, name, age):\n",
        "        self.name = name\n",
        "        self.age = age\n",
        "\n",
        "    # classmethod чтобы создать объект по году рождения,\n",
        "    # \"альтернативный\" конструктор\n",
        "    @classmethod\n",
        "    def fromBirthYear(cls, name, year):\n",
        "        return cls(name, datetime.date.today().year - year)\n",
        "\n",
        "    # статический метод,чтобы проверить совершеннолетие\n",
        "    @staticmethod\n",
        "    def isAdult(age):\n",
        "        return age > 18\n",
        "\n",
        "person1 = Person('Петя', 21)\n",
        "person2 = Person.fromBirthYear('Петя', 1996)\n",
        "\n",
        "print(person1.age)\n",
        "print(person2.age)\n",
        "\n",
        "# print the result\n",
        "print(Person.isAdult(22))"
      ],
      "execution_count": 0,
      "outputs": [
        {
          "output_type": "stream",
          "text": [
            "21\n",
            "24\n",
            "True\n"
          ],
          "name": "stdout"
        }
      ]
    },
    {
      "cell_type": "markdown",
      "metadata": {
        "id": "7PNeiUTURer-",
        "colab_type": "text"
      },
      "source": [
        "Упражнение 1"
      ]
    },
    {
      "cell_type": "code",
      "metadata": {
        "id": "IVO9GJ9dRfyk",
        "colab_type": "code",
        "outputId": "ca364832-b6d3-443f-dba3-3b78b6351f91",
        "colab": {
          "base_uri": "https://localhost:8080/",
          "height": 34
        }
      },
      "source": [
        "def decor(dec):\n",
        "  def result(nums):\n",
        "    c = dec(nums)\n",
        "    if c > 10:\n",
        "      print(\"Много\")\n",
        "    elif c == 0:\n",
        "      print(\"Нету\")\n",
        "    else:\n",
        "      print(c)\n",
        "  return result\n",
        "@decor\n",
        "def count_even(nums):\n",
        "  res = 0\n",
        "  for i in nums:\n",
        "    if i % 2 == 0:\n",
        "      res += 1\n",
        "  return res\n",
        "count_even([1, 633])"
      ],
      "execution_count": 0,
      "outputs": [
        {
          "output_type": "stream",
          "text": [
            "Нету\n"
          ],
          "name": "stdout"
        }
      ]
    },
    {
      "cell_type": "markdown",
      "metadata": {
        "id": "PNO8cdo1Rkoe",
        "colab_type": "text"
      },
      "source": [
        "Упражнение 2"
      ]
    },
    {
      "cell_type": "code",
      "metadata": {
        "id": "UAqabpjpRmOP",
        "colab_type": "code",
        "outputId": "38c4e468-8430-4537-b730-ff606e2335f1",
        "colab": {
          "base_uri": "https://localhost:8080/",
          "height": 34
        }
      },
      "source": [
        "def dec(fu):\n",
        "  def v_f(self, other):\n",
        "    C = fu(self, other)\n",
        "    print(\"(\",self.x,\",\",self.y,\")+(\",other.x,\",\",other.y,\") =\",\"(\", C.x, \",\",C.y,\")\")\n",
        "  return v_f\n",
        "class Vector:\n",
        "    def __init__(self, x = 0, y = 0):\n",
        "        self.x = x\n",
        "        self.y = y\n",
        "    @dec\n",
        "    def __add__(self, other):\n",
        "        return Vector(self.x + other.x, self.y + other.y)\n",
        "A = Vector(55, 7)\n",
        "B = Vector(1, 3)\n",
        "C = A + B"
      ],
      "execution_count": 0,
      "outputs": [
        {
          "output_type": "stream",
          "text": [
            "( 55 , 7 )+( 1 , 3 ) = ( 56 , 10 )\n"
          ],
          "name": "stdout"
        }
      ]
    }
  ]
}